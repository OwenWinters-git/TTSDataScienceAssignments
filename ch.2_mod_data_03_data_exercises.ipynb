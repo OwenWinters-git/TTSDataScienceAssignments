{
 "cells": [
  {
   "cell_type": "markdown",
   "metadata": {},
   "source": [
    "Data Science Fundamentals: Python |\n",
    "[Table of Contents](../index.ipynb)\n",
    "- - - \n",
    "<!--NAVIGATION-->\n",
    "Module 2. Python Data | [Simple Types](./01_simple_types.ipynb) | [Data Structures](./02_data_structures.ipynb): [Lists](./02_data_structures_lists.ipynb), [Tuples](./02_data_structures_tuples_part_1), [Sets](./02_data_structures_sets.ipynb), [Dictionaries](./02_data_structures_dictionaries.ipynb) | **[Exercises](./03_data_exercises.ipynb)**"
   ]
  },
  {
   "cell_type": "markdown",
   "metadata": {},
   "source": [
    "# Data Structure Exercises"
   ]
  },
  {
   "cell_type": "markdown",
   "metadata": {},
   "source": [
    "### Exercise 1:\n",
    "\n",
    "In mathematics, the quadratic equation ax^2+bx+c=0 can be solved with the formula x=(−b±(√(b^2−4ac))/2a.\n",
    "\n",
    "Write a function solve_quadratic, that returns both solutions of a generic quadratic as a pair (2-tuple) when the coefficients are given as parameters. It should work like this:\n",
    "\n",
    "print(solve_quadratic(1,-3,2))\n",
    "\n",
    "(2.0,1.0)\n",
    "\n",
    "print(solve_quadratic(1,2,1))\n",
    "\n",
    "(-1.0,-1.0)\n",
    "\n",
    "You may want to use the math.sqrt function from the math module in your solution. Test that your function works in the main function!"
   ]
  },
  {
   "cell_type": "code",
   "execution_count": 1,
   "metadata": {
    "scrolled": true
   },
   "outputs": [
    {
     "name": "stdout",
     "output_type": "stream",
     "text": [
      "2.0\n",
      "1.0\n",
      "-1.0\n",
      "-1.0\n"
     ]
    }
   ],
   "source": [
    "#getting our imports for math.sqrt\n",
    "import math\n",
    "\n",
    "#create solve_quadratic func\n",
    "def solve_quadratic(a,b,c):\n",
    "    x1 = (-b + math.sqrt(b**2-4*a*c))/2*a\n",
    "    x2 = (-b - math.sqrt(b**2-4*a*c))/2*a\n",
    "    print(x1)\n",
    "    print(x2)\n",
    "\n",
    "#test case 1 should return (2.0,1.0)\n",
    "solve_quadratic(1,-3,2)\n",
    "\n",
    "#test case 2 should return (-1.0/-1.0)\n",
    "solve_quadratic(1,2,1)"
   ]
  },
  {
   "cell_type": "markdown",
   "metadata": {},
   "source": [
    "### Exercise 2:\n",
    "Get a space-separated list of integers from the user, create a tuple of those integers. Then compute and print the result of hash(tuple).  [Hint](https://docs.python.org/3/library/functions.html#hash). **Hash()**"
   ]
  },
  {
   "cell_type": "markdown",
   "metadata": {},
   "source": [
    "A **[hash](https://docs.python.org/3/library/functions.html#hash)** is an fixed sized integer that identifies a particular value. Each value needs to have its own hash, so for the same value you will get the same hash even if it's not the same object."
   ]
  },
  {
   "cell_type": "code",
   "execution_count": 2,
   "metadata": {},
   "outputs": [
    {
     "name": "stdout",
     "output_type": "stream",
     "text": [
      "Please type out a list of integers, separating them with spaces:1 2 3 4\n",
      "(1, 2, 3, 4)\n",
      "590899387183067792\n"
     ]
    }
   ],
   "source": [
    "#Get a space-separated list of integers from the user & create a tuple of those integers\n",
    "\n",
    "input_a = input(\"Please type out a list of integers, separating them with spaces:\")\n",
    "\n",
    "tupel_c = tuple(int(item) for item in input_a.split()) \n",
    "\n",
    "print(tupel_c)\n",
    "\n",
    "hash_e = hash(tupel_c)\n",
    "print(hash_e)\n",
    "\n",
    "#Then compute and print the result of hash(tuple)\n"
   ]
  },
  {
   "cell_type": "markdown",
   "metadata": {},
   "source": [
    "### Exercise 3:\n",
    "Take the following two lists. Create a third list by picking a odd-index elements from the first list and even-index elements from the second."
   ]
  },
  {
   "cell_type": "code",
   "execution_count": 3,
   "metadata": {},
   "outputs": [],
   "source": [
    "list1 = [3, 6, 9, 12, 15, 18, 21]\n",
    "list2 = [4, 8, 12, 16, 20, 24, 28]"
   ]
  },
  {
   "cell_type": "code",
   "execution_count": 4,
   "metadata": {},
   "outputs": [
    {
     "data": {
      "text/plain": [
       "[4, 6, 12, 12, 18, 20, 28]"
      ]
     },
     "execution_count": 4,
     "metadata": {},
     "output_type": "execute_result"
    }
   ],
   "source": [
    "#your code here, remember to run the block above!\n",
    "list3 = list1[1::2] + list2[0::2]\n",
    "sorted(list3)"
   ]
  },
  {
   "cell_type": "markdown",
   "metadata": {},
   "source": [
    "### Exercise 4:\n",
    "Take the following list. Slice it into three equal chunks and reverse each list."
   ]
  },
  {
   "cell_type": "code",
   "execution_count": 5,
   "metadata": {},
   "outputs": [
    {
     "name": "stdout",
     "output_type": "stream",
     "text": [
      "[11, 45, 8, 23, 14, 12, 78, 45, 89]\n"
     ]
    }
   ],
   "source": [
    "sampleList = [11, 45, 8, 23, 14, 12, 78, 45, 89]\n",
    "print(sampleList)"
   ]
  },
  {
   "cell_type": "code",
   "execution_count": 41,
   "metadata": {},
   "outputs": [
    {
     "name": "stdout",
     "output_type": "stream",
     "text": [
      "[8, 45, 11] [12, 14, 23] [89, 45, 78]\n",
      "[8, 45, 11] [12, 14, 23] [89, 45, 78]\n",
      "[[89, 45, 78], [12, 14, 23], [8, 45, 11]]\n"
     ]
    }
   ],
   "source": [
    "#your code here\n",
    "#try 1\n",
    "sampleList = [11, 45, 8, 23, 14, 12, 78, 45, 89]\n",
    "\n",
    "sampleList1 = sampleList[0:3]\n",
    "sampleList2 = sampleList[3:6]\n",
    "sampleList3 = sampleList[6:9]\n",
    "sampleList1.reverse()\n",
    "sampleList3.reverse()\n",
    "sampleList2.reverse()\n",
    "print(sampleList1, sampleList2, sampleList3)\n",
    "#try 1 improved\n",
    "sampleList = [11, 45, 8, 23, 14, 12, 78, 45, 89]\n",
    "\n",
    "sampleList1 = sampleList[0:len(sampleList)//3]\n",
    "sampleList2 = sampleList[len(sampleList)//3:2*len(sampleList)//3]\n",
    "sampleList3 = sampleList[2*len(sampleList)//3:len(sampleList)]\n",
    "sampleList1.reverse()\n",
    "sampleList3.reverse()\n",
    "sampleList2.reverse()\n",
    "print(sampleList1, sampleList2, sampleList3)\n",
    "#try 2\n",
    "\n",
    "three_lists = [sampleList[-1:-1-(len(sampleList))//3:-1], sampleList[-1-(len(sampleList))//3:-1-2*(len(sampleList))//3:-1], sampleList[-1-2*(len(sampleList))//3:-1-3*(len(sampleList))//3:-1]]\n",
    "\n",
    "print(three_lists)\n",
    "\n",
    "\n"
   ]
  },
  {
   "cell_type": "markdown",
   "metadata": {},
   "source": [
    "### Exercise 5: \n",
    "Iterate through a given list (`rollNumber`) and check if a given element already exists in the given dictionary (`sampleDict`) as a key’s value. If not, delete it from the list."
   ]
  },
  {
   "cell_type": "code",
   "execution_count": 93,
   "metadata": {},
   "outputs": [],
   "source": [
    "rollNumber = [47, 64, 69, 37, 76, 83, 95, 97]\n",
    "sampleDict ={'Zach':47, 'Emma':69, 'Kelly':76, 'Jason':97}"
   ]
  },
  {
   "cell_type": "markdown",
   "metadata": {},
   "source": [
    "Please know this is a hard problem, and is advanced for a data structures  exercise. It is designed to be the challenge problem, because this exercise incorporates knowledge from material we have yet to go through. The key is to keep in mind the nature of dictionaries, and how our control flow/iteration is performed in these `for` loops. \n",
    "\n",
    "There are two ways to approach this problem, our approach is to delete elements from `rollNumber`, the alternate is to add the matches from `rollNumber` and `sampleDict`'s values to a new list. The second approach is easier, but you should do the first approach for this exercise. Here is one example of the first approach, but notice how 95 is included here, and ponder why."
   ]
  },
  {
   "cell_type": "code",
   "execution_count": 82,
   "metadata": {},
   "outputs": [
    {
     "name": "stdout",
     "output_type": "stream",
     "text": [
      "[47, 69, 76, 95, 97]\n"
     ]
    }
   ],
   "source": [
    "#Incorrect, will include #95\n",
    "#iterate through the elements in rollNumber\n",
    "for n in rollNumber:\n",
    "    #check if a given element already exists in sampleDict as the key, n's value pair.\n",
    "    if n not in sampleDict.values():\n",
    "        #if an element already exists in the given dict then we remove it\n",
    "        rollNumber.remove(n) and n - 1\n",
    "    #if n is in sampleDict.values, continue\n",
    "    else:\n",
    "        continue\n",
    "\n",
    "print(rollNumber)"
   ]
  },
  {
   "cell_type": "code",
   "execution_count": 96,
   "metadata": {},
   "outputs": [
    {
     "name": "stdout",
     "output_type": "stream",
     "text": [
      "[47, 69, 76, 97]\n"
     ]
    }
   ],
   "source": [
    "#your code here, correct answer is [47, 69, 76, 97]\n",
    "#seems like the code above works if I run it twice. But could not figure out how to do it \n",
    "\n",
    "match = [n for n in rollNumber if n in sampleDict.values()]\n",
    "\n",
    "print(match)"
   ]
  },
  {
   "cell_type": "markdown",
   "metadata": {},
   "source": [
    "## Extra Points\n",
    "- - -"
   ]
  },
  {
   "cell_type": "markdown",
   "metadata": {},
   "source": [
    "1. ***Optional Exercise (Extra Points)***.  Write a Python program to convert a tuple to a string."
   ]
  },
  {
   "cell_type": "code",
   "execution_count": 108,
   "metadata": {},
   "outputs": [
    {
     "name": "stdout",
     "output_type": "stream",
     "text": [
      "TTS\n"
     ]
    }
   ],
   "source": [
    "def tuple_to_string(tup1):\n",
    "    stringer = ''.join(tup1)\n",
    "    return stringer\n",
    "\n",
    "tuple1 = ('T','T','S')\n",
    "stringer = tuple_to_string(tuple1)\n",
    "print(stringer)"
   ]
  },
  {
   "cell_type": "markdown",
   "metadata": {},
   "source": [
    "2. ***Optional Exercise (Extra Points)***.  Write a Python program to check whether an element exists within a tuple."
   ]
  },
  {
   "cell_type": "code",
   "execution_count": 118,
   "metadata": {},
   "outputs": [
    {
     "name": "stdout",
     "output_type": "stream",
     "text": [
      "does not exist within tuple\n"
     ]
    }
   ],
   "source": [
    "def exist(tup1, i):\n",
    "    if i in tup1:\n",
    "        print(\"exists within tuple\")\n",
    "    else:\n",
    "        print(\"does not exist within tuple\")\n",
    "\n",
    "exist(tuple1, 0)\n"
   ]
  },
  {
   "cell_type": "markdown",
   "metadata": {},
   "source": [
    "3. ***Optional Exercise (Extra Points)***.  Write a Python program to print a tuple with string formatting."
   ]
  },
  {
   "cell_type": "code",
   "execution_count": 119,
   "metadata": {},
   "outputs": [
    {
     "name": "stdout",
     "output_type": "stream",
     "text": [
      "This is a string now (1, 2, 3, 4).\n"
     ]
    }
   ],
   "source": [
    "tup = (1, 2, 3, 4)\n",
    "print(f\"This is a string now {tup}.\")"
   ]
  },
  {
   "cell_type": "markdown",
   "metadata": {},
   "source": [
    "- - - \n",
    "<!--NAVIGATION-->\n",
    "Module 2. Python Data | [Simple Types](./01_simple_types.ipynb) | [Data Structures](./02_data_structures.ipynb) | **[Exercises](./03_data_exercises.ipynb)**\n",
    "<br>\n",
    "[Top](#)"
   ]
  },
  {
   "cell_type": "markdown",
   "metadata": {},
   "source": [
    "- - -\n",
    "\n",
    "Copyright © 2020 Qualex Consulting Services Incorporated."
   ]
  }
 ],
 "metadata": {
  "kernelspec": {
   "display_name": "Python 3",
   "language": "python",
   "name": "python3"
  },
  "language_info": {
   "codemirror_mode": {
    "name": "ipython",
    "version": 3
   },
   "file_extension": ".py",
   "mimetype": "text/x-python",
   "name": "python",
   "nbconvert_exporter": "python",
   "pygments_lexer": "ipython3",
   "version": "3.8.8"
  }
 },
 "nbformat": 4,
 "nbformat_minor": 4
}
