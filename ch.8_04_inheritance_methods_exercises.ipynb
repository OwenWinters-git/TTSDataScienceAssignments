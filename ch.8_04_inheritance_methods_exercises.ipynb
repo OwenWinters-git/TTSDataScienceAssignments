{
 "cells": [
  {
   "cell_type": "markdown",
   "metadata": {},
   "source": [
    "Data Science Fundamentals: Python |\n",
    "[Table of Contents](../index.ipynb)\n",
    "- - - \n",
    "<!--NAVIGATION-->\n",
    "Module 8. | [Inheritance & Methods](./01_oop_inheritance.ipynb) | [Sequences, Iterables, Generators Revisited](02_revisited.ipynb) | [Super()](./03_super().ipynb) | **[Exercises](./04_inheritance_methods_exercises.ipynb)**"
   ]
  },
  {
   "cell_type": "markdown",
   "metadata": {},
   "source": [
    "# Module 8: Practice Exercises"
   ]
  },
  {
   "cell_type": "markdown",
   "metadata": {},
   "source": [
    "## Exercise 1. "
   ]
  },
  {
   "cell_type": "markdown",
   "metadata": {},
   "source": [
    "You are given two classes, Person and Student, where Person is the base class and Student is the derived class. Completed code for Person and a declaration for Student are provided for you in the editor. Observe that Student inherits all the properties of Person.\n",
    "\n",
    "Complete the Student class by writing the following:\n",
    "\n",
    "A Student class constructor, which has 4 parameters:\n",
    "- A string, firstName\n",
    "- A string, lastName\n",
    "- An integer, id\n",
    "An integer array (or vector) of test scores, scores\n",
    "\n",
    "A char **calculate()** method that calculates a Student object's average and returns the grade character representative of their calculated average:\n",
    "```\n",
    "A | 90-100\n",
    "B | 80-89\n",
    "C | 70-79\n",
    "D | 60-69\n",
    "F | <60\n",
    "```"
   ]
  },
  {
   "cell_type": "code",
   "execution_count": 10,
   "metadata": {},
   "outputs": [
    {
     "name": "stdout",
     "output_type": "stream",
     "text": [
      "A\n"
     ]
    }
   ],
   "source": [
    "class Person:\n",
    "    def __init__(self,fname,lname):\n",
    "        self.fname = fname\n",
    "        self.lname = lname\n",
    "        \n",
    "class Student(Person):\n",
    "    def __init__(self, fname, lname, student_id, grades):\n",
    "        Person.__init__(self, fname, lname)\n",
    "        self.id = student_id\n",
    "        self.grades = grades\n",
    "        \n",
    "        \n",
    "    def calculate(self):\n",
    "        grades = self.grades\n",
    "        if 100 >= sum(grades)/len(grades) >= 90:\n",
    "            print(\"A\")\n",
    "        elif 89 >= sum(grades)/len(grades)>= 80:\n",
    "            print(\"B\")\n",
    "        elif 79 >= sum(grades)/len(grades)>= 70:\n",
    "            print(\"C\")\n",
    "        elif 69 >= sum(grades)/len(grades)>= 60:\n",
    "            print(\"D\")\n",
    "        elif sum(grades)/len(grades) < 60:\n",
    "            print(\"F\")\n",
    "        else:\n",
    "            print(\"invalid grades\")\n",
    "         \n",
    "    \"\"\"def calculate(self, arg=None):\n",
    "        if arg is None:\n",
    "            arg = self.grades\n",
    "        if 100 >= sum(arg)/len(arg) >= 90:\n",
    "            print(\"A\")\n",
    "        elif 89 >= sum(arg)/len(arg)>= 80:\n",
    "            print(\"B\")\n",
    "        elif 79 >= sum(arg)/len(arg)>= 70:\n",
    "            print(\"C\")\n",
    "        elif 69 >= sum(arg)/len(arg)>= 60:\n",
    "            print(\"D\")\n",
    "        elif sum(arg)/len(arg) < 60:\n",
    "            print(\"F\")\n",
    "        else:\n",
    "            print(\"invalid grades\")\"\"\"\n",
    "            \n",
    "#person1 = Student(str(input(\"First name: \")),str(input(\"Last name: \")), int(input(\"Student ID: \")), list(map(int,input(\"Enter a list of grades separated by space: \").split())))        \n",
    "person1 = Student(\"Owen\", \"Winters\", 42, [100, 100, 100])\n",
    "person1.calculate()"
   ]
  },
  {
   "cell_type": "markdown",
   "metadata": {},
   "source": [
    "- - - \n",
    "<!--NAVIGATION-->\n",
    "Module 8. | [Inheritance & Methods](./01_oop_inheritance.ipynb) | [Sequences, Iterables, Generators Revisited](02_revisited.ipynb) | [Super()](./03_super().ipynb) | **[Exercises](./04_inheritance_methods_exercises.ipynb)**\n",
    "\n",
    "[Top](#)"
   ]
  },
  {
   "cell_type": "markdown",
   "metadata": {},
   "source": [
    "- - -\n",
    "\n",
    "Copyright © 2020 Qualex Consulting Services Incorporated."
   ]
  },
  {
   "cell_type": "code",
   "execution_count": null,
   "metadata": {},
   "outputs": [],
   "source": []
  }
 ],
 "metadata": {
  "kernelspec": {
   "display_name": "Python 3",
   "language": "python",
   "name": "python3"
  },
  "language_info": {
   "codemirror_mode": {
    "name": "ipython",
    "version": 3
   },
   "file_extension": ".py",
   "mimetype": "text/x-python",
   "name": "python",
   "nbconvert_exporter": "python",
   "pygments_lexer": "ipython3",
   "version": "3.8.8"
  }
 },
 "nbformat": 4,
 "nbformat_minor": 4
}
